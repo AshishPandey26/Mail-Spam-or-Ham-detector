{
 "cells": [
  {
   "cell_type": "code",
   "execution_count": 167,
   "id": "67caaf74-8205-481b-95ae-f38ad61d5f47",
   "metadata": {},
   "outputs": [],
   "source": [
    "# dtf print "
   ]
  },
  {
   "cell_type": "code",
   "execution_count": 168,
   "id": "08cb7558-b2b2-4739-88ea-350cab660f6d",
   "metadata": {},
   "outputs": [],
   "source": [
    "import pandas as pd"
   ]
  },
  {
   "cell_type": "code",
   "execution_count": 169,
   "id": "615e95a8-8b58-4f6b-9607-35e715fa0fb5",
   "metadata": {},
   "outputs": [],
   "source": [
    "with open(\"SMSSpamCollection.txt\",\"r\") as file:\n",
    "    data = file.read()"
   ]
  },
  {
   "cell_type": "code",
   "execution_count": 170,
   "id": "dce2d8d2-e51b-4eab-b647-703fcc31bac1",
   "metadata": {},
   "outputs": [
    {
     "data": {
      "text/plain": [
       "477907"
      ]
     },
     "execution_count": 170,
     "metadata": {},
     "output_type": "execute_result"
    }
   ],
   "source": [
    "len(data)"
   ]
  },
  {
   "cell_type": "code",
   "execution_count": 171,
   "id": "95b93669-23dd-4c49-b9da-3f38f92a495c",
   "metadata": {},
   "outputs": [],
   "source": [
    "email_ls = data.split('\\n')"
   ]
  },
  {
   "cell_type": "code",
   "execution_count": 172,
   "id": "144f0840-6898-46ba-8b70-a189488705e6",
   "metadata": {},
   "outputs": [],
   "source": [
    "# x =[]\n",
    "# y =[]\n",
    "# email_ls[1].split(\"\\t\")\n",
    "\n",
    "# x.append(label_email[1])    #ham -- 1 pe hain\n",
    "# y.append(label_email[0])    #spam-- 0 pe hain"
   ]
  },
  {
   "cell_type": "code",
   "execution_count": 173,
   "id": "c7768bca-3867-42ea-aa2e-a349d9a81b31",
   "metadata": {},
   "outputs": [],
   "source": [
    "x =[]\n",
    "y =[]\n",
    "for line in email_ls:\n",
    "    email_with_labels =line.split('\\t')\n",
    "    if len(email_with_labels) == 2:\n",
    "        x.append(email_with_labels[1])\n",
    "        y.append(email_with_labels[0])  "
   ]
  },
  {
   "cell_type": "code",
   "execution_count": 174,
   "id": "6a3685ae-d21d-4f14-b742-1c7aca1265bc",
   "metadata": {},
   "outputs": [
    {
     "data": {
      "text/plain": [
       "(5574, 5574)"
      ]
     },
     "execution_count": 174,
     "metadata": {},
     "output_type": "execute_result"
    }
   ],
   "source": [
    "len(x), len(y)"
   ]
  },
  {
   "cell_type": "code",
   "execution_count": 175,
   "id": "c9b3c451-56ea-4fbb-81d2-84342e8db9b6",
   "metadata": {},
   "outputs": [],
   "source": [
    "# Model train\n",
    "\n",
    "import re"
   ]
  },
  {
   "cell_type": "code",
   "execution_count": 176,
   "id": "6c820961-cdfb-4367-b89d-0f091bb88610",
   "metadata": {},
   "outputs": [
    {
     "data": {
      "text/plain": [
       "'Iâ€˜m going to try for 2 months ha ha only joking'"
      ]
     },
     "execution_count": 176,
     "metadata": {},
     "output_type": "execute_result"
    }
   ],
   "source": [
    "x[21]"
   ]
  },
  {
   "cell_type": "code",
   "execution_count": 177,
   "id": "d60afeef-2b8c-499a-b0ef-78f6bff9cef9",
   "metadata": {},
   "outputs": [
    {
     "data": {
      "text/plain": [
       "'im going to try for  months ha ha only joking'"
      ]
     },
     "execution_count": 177,
     "metadata": {},
     "output_type": "execute_result"
    }
   ],
   "source": [
    "ls = \" Hii i am from @ mathura and pincode 231400\"\n",
    "# re.sub('[^a-zA-z]',\" \", ls)\n",
    "re.sub('[^a-zA-z ]',\"\", x[21]).lower()          # ^ --  not"
   ]
  },
  {
   "cell_type": "code",
   "execution_count": 178,
   "id": "0bb2ecc0-b0c9-429e-b5ac-82d59a682fc1",
   "metadata": {},
   "outputs": [],
   "source": [
    "for i in range(len(x)):\n",
    "   x[i]=  re.sub('[^a-zA-Z ]','',x[i]).lower()"
   ]
  },
  {
   "cell_type": "code",
   "execution_count": 179,
   "id": "8437829c-1151-4191-93f1-d24cd694fb58",
   "metadata": {},
   "outputs": [
    {
     "data": {
      "text/plain": [
       "'im going to try for  months ha ha only joking'"
      ]
     },
     "execution_count": 179,
     "metadata": {},
     "output_type": "execute_result"
    }
   ],
   "source": [
    "x[21]"
   ]
  },
  {
   "cell_type": "code",
   "execution_count": 180,
   "id": "deb3f012-7df1-406b-9a53-26322331b9e7",
   "metadata": {},
   "outputs": [
    {
     "data": {
      "text/html": [
       "<div>\n",
       "<style scoped>\n",
       "    .dataframe tbody tr th:only-of-type {\n",
       "        vertical-align: middle;\n",
       "    }\n",
       "\n",
       "    .dataframe tbody tr th {\n",
       "        vertical-align: top;\n",
       "    }\n",
       "\n",
       "    .dataframe thead th {\n",
       "        text-align: right;\n",
       "    }\n",
       "</style>\n",
       "<table border=\"1\" class=\"dataframe\">\n",
       "  <thead>\n",
       "    <tr style=\"text-align: right;\">\n",
       "      <th></th>\n",
       "      <th>email_message</th>\n",
       "      <th>label</th>\n",
       "    </tr>\n",
       "  </thead>\n",
       "  <tbody>\n",
       "    <tr>\n",
       "      <th>0</th>\n",
       "      <td>go until jurong point crazy available only in ...</td>\n",
       "      <td>ham</td>\n",
       "    </tr>\n",
       "    <tr>\n",
       "      <th>1</th>\n",
       "      <td>ok lar joking wif u oni</td>\n",
       "      <td>ham</td>\n",
       "    </tr>\n",
       "    <tr>\n",
       "      <th>2</th>\n",
       "      <td>free entry in  a wkly comp to win fa cup final...</td>\n",
       "      <td>spam</td>\n",
       "    </tr>\n",
       "    <tr>\n",
       "      <th>3</th>\n",
       "      <td>u dun say so early hor u c already then say</td>\n",
       "      <td>ham</td>\n",
       "    </tr>\n",
       "    <tr>\n",
       "      <th>4</th>\n",
       "      <td>nah i dont think he goes to usf he lives aroun...</td>\n",
       "      <td>ham</td>\n",
       "    </tr>\n",
       "  </tbody>\n",
       "</table>\n",
       "</div>"
      ],
      "text/plain": [
       "                                       email_message label\n",
       "0  go until jurong point crazy available only in ...   ham\n",
       "1                            ok lar joking wif u oni   ham\n",
       "2  free entry in  a wkly comp to win fa cup final...  spam\n",
       "3        u dun say so early hor u c already then say   ham\n",
       "4  nah i dont think he goes to usf he lives aroun...   ham"
      ]
     },
     "execution_count": 180,
     "metadata": {},
     "output_type": "execute_result"
    }
   ],
   "source": [
    "import pandas as pd\n",
    "dt = {\"email_message\":x, \"label\":y}\n",
    "df = pd.DataFrame(dt)\n",
    "df.head()"
   ]
  },
  {
   "cell_type": "code",
   "execution_count": 181,
   "id": "84a2605d-5561-4df0-8219-f97c807a177d",
   "metadata": {},
   "outputs": [
    {
     "data": {
      "text/plain": [
       "ham     4827\n",
       "spam     747\n",
       "Name: label, dtype: int64"
      ]
     },
     "execution_count": 181,
     "metadata": {},
     "output_type": "execute_result"
    }
   ],
   "source": [
    "#checking imbalance\n",
    "\n",
    "df['label'].value_counts()\n",
    "\n",
    "# spam other data add\n",
    "# ham data poitns remove"
   ]
  },
  {
   "cell_type": "code",
   "execution_count": 182,
   "id": "eda9720f-9b93-4735-b34c-314040be209b",
   "metadata": {},
   "outputs": [],
   "source": [
    "ham = df[ df['label'] == 'ham']\n",
    "spam = df[df['label'] == 'spam']"
   ]
  },
  {
   "cell_type": "code",
   "execution_count": 183,
   "id": "2eb2135f-fe67-495e-8202-cb84dcac2a3c",
   "metadata": {},
   "outputs": [
    {
     "data": {
      "text/plain": [
       "((4827, 2), (747, 2))"
      ]
     },
     "execution_count": 183,
     "metadata": {},
     "output_type": "execute_result"
    }
   ],
   "source": [
    "ham.shape,  spam.shape"
   ]
  },
  {
   "cell_type": "code",
   "execution_count": 184,
   "id": "5b26e11b-f223-492a-a1be-f5a5302df302",
   "metadata": {},
   "outputs": [
    {
     "data": {
      "text/plain": [
       "(1000, 2)"
      ]
     },
     "execution_count": 184,
     "metadata": {},
     "output_type": "execute_result"
    }
   ],
   "source": [
    "ham.sample(1000).shape"
   ]
  },
  {
   "cell_type": "code",
   "execution_count": 185,
   "id": "4f536691-42b7-4399-84c2-e9e5bbe1b00b",
   "metadata": {},
   "outputs": [],
   "source": [
    "# from imblearn.over_sampling import SMOTE  #(synthtic minority over sampling technique)"
   ]
  },
  {
   "cell_type": "code",
   "execution_count": 186,
   "id": "9eade69a-893a-4bdd-9c20-710ba5b87ef8",
   "metadata": {},
   "outputs": [],
   "source": [
    "smote = SMOTE()"
   ]
  },
  {
   "cell_type": "code",
   "execution_count": 187,
   "id": "d771e1d0-82e0-4f68-9035-73c749000746",
   "metadata": {},
   "outputs": [],
   "source": [
    "x = df['email_message']\n",
    "y = df['label']                ##########????????????????????"
   ]
  },
  {
   "cell_type": "code",
   "execution_count": 188,
   "id": "08e3fa91-ff97-45db-af79-d91ce3ec66f3",
   "metadata": {},
   "outputs": [],
   "source": [
    "# X, Y = smote.fit_resample(x,y)    content is alphabtical so can't be used here"
   ]
  },
  {
   "cell_type": "code",
   "execution_count": 189,
   "id": "e8fa5cc2-d504-486a-952d-a98a0d544e59",
   "metadata": {},
   "outputs": [],
   "source": [
    "ham = ham.sample(1000)"
   ]
  },
  {
   "cell_type": "code",
   "execution_count": 190,
   "id": "44a1767d-b2a8-4064-a7fe-a00c691b0c21",
   "metadata": {},
   "outputs": [],
   "source": [
    "balance_df = pd.concat([ham,spam])\n",
    "\n",
    "x = balance_df['email_message']\n",
    "y = balance_df['label']\n"
   ]
  },
  {
   "cell_type": "code",
   "execution_count": 191,
   "id": "660e081f-d479-4a86-8df8-c3e8fdff9019",
   "metadata": {},
   "outputs": [
    {
     "data": {
      "text/plain": [
       "numpy.ndarray"
      ]
     },
     "execution_count": 191,
     "metadata": {},
     "output_type": "execute_result"
    }
   ],
   "source": [
    "x = x.values\n",
    "type(x)"
   ]
  },
  {
   "cell_type": "code",
   "execution_count": 192,
   "id": "c959e133-579e-4e9d-b4b4-322fc21bb860",
   "metadata": {},
   "outputs": [],
   "source": [
    "balance_df = pd.concat([ham,spam])"
   ]
  },
  {
   "cell_type": "code",
   "execution_count": 193,
   "id": "f3866cc4-e308-40e7-9bcc-1868bb279fa9",
   "metadata": {},
   "outputs": [
    {
     "data": {
      "text/plain": [
       "ham     1000\n",
       "spam     747\n",
       "Name: label, dtype: int64"
      ]
     },
     "execution_count": 193,
     "metadata": {},
     "output_type": "execute_result"
    }
   ],
   "source": [
    "balance_df['label'].value_counts()"
   ]
  },
  {
   "cell_type": "code",
   "execution_count": 194,
   "id": "53d9c5b7-431d-4fb2-acd6-73fd9e37cb33",
   "metadata": {},
   "outputs": [],
   "source": [
    "### email message transform into numerical\n",
    "\n",
    "from sklearn.feature_extraction.text import CountVectorizer, TfidfVectorizer"
   ]
  },
  {
   "cell_type": "code",
   "execution_count": 195,
   "id": "021abe29-0454-4fa5-81e4-6843548cd5a4",
   "metadata": {},
   "outputs": [],
   "source": [
    "bow = CountVectorizer(max_features=1700, stop_words='english')\n",
    "\n",
    "# stop words in eng = you he she will how here where there etc"
   ]
  },
  {
   "cell_type": "code",
   "execution_count": 206,
   "id": "826e497b-2cfc-45a2-80f8-60606b8f36d2",
   "metadata": {},
   "outputs": [],
   "source": [
    "# x"
   ]
  },
  {
   "cell_type": "code",
   "execution_count": 197,
   "id": "d4f59cfc-87b5-4848-a890-2a078a1a5aed",
   "metadata": {},
   "outputs": [],
   "source": [
    "x = bow.fit_transform(x).toarray()\n",
    "\n",
    "# bow --  bag of words\n",
    "\n",
    "#apla to num krdiya ek run mein\n",
    "\n",
    "# dubara run mein num to num krega to glt hoga 2nd run mein"
   ]
  },
  {
   "cell_type": "code",
   "execution_count": 198,
   "id": "2e99b792-a8f2-492a-9bd0-8b71582e9e43",
   "metadata": {},
   "outputs": [],
   "source": [
    "column_name = bow.get_feature_names_out()"
   ]
  },
  {
   "cell_type": "code",
   "execution_count": 219,
   "id": "5a9eb806-6477-44d7-84c1-9a8b3392d933",
   "metadata": {},
   "outputs": [],
   "source": [
    "r2 = pd.set_option(\"display.max_rows\",None)\n",
    "pd.set_option(\"display.max_columns\",None)\n",
    "\n",
    "r2"
   ]
  },
  {
   "cell_type": "code",
   "execution_count": 199,
   "id": "915bb6f4-c737-464c-a647-cbd07fdb7fc5",
   "metadata": {},
   "outputs": [
    {
     "data": {
      "text/html": [
       "<div>\n",
       "<style scoped>\n",
       "    .dataframe tbody tr th:only-of-type {\n",
       "        vertical-align: middle;\n",
       "    }\n",
       "\n",
       "    .dataframe tbody tr th {\n",
       "        vertical-align: top;\n",
       "    }\n",
       "\n",
       "    .dataframe thead th {\n",
       "        text-align: right;\n",
       "    }\n",
       "</style>\n",
       "<table border=\"1\" class=\"dataframe\">\n",
       "  <thead>\n",
       "    <tr style=\"text-align: right;\">\n",
       "      <th></th>\n",
       "      <th>able</th>\n",
       "      <th>abt</th>\n",
       "      <th>abta</th>\n",
       "      <th>ac</th>\n",
       "      <th>access</th>\n",
       "      <th>accident</th>\n",
       "      <th>account</th>\n",
       "      <th>ache</th>\n",
       "      <th>aclpm</th>\n",
       "      <th>acoentry</th>\n",
       "      <th>...</th>\n",
       "      <th>yesterday</th>\n",
       "      <th>yijue</th>\n",
       "      <th>yo</th>\n",
       "      <th>youll</th>\n",
       "      <th>youre</th>\n",
       "      <th>youve</th>\n",
       "      <th>yr</th>\n",
       "      <th>yrs</th>\n",
       "      <th>yup</th>\n",
       "      <th>zed</th>\n",
       "    </tr>\n",
       "  </thead>\n",
       "  <tbody>\n",
       "    <tr>\n",
       "      <th>0</th>\n",
       "      <td>0</td>\n",
       "      <td>0</td>\n",
       "      <td>0</td>\n",
       "      <td>0</td>\n",
       "      <td>0</td>\n",
       "      <td>0</td>\n",
       "      <td>0</td>\n",
       "      <td>0</td>\n",
       "      <td>0</td>\n",
       "      <td>0</td>\n",
       "      <td>...</td>\n",
       "      <td>0</td>\n",
       "      <td>0</td>\n",
       "      <td>0</td>\n",
       "      <td>0</td>\n",
       "      <td>0</td>\n",
       "      <td>0</td>\n",
       "      <td>0</td>\n",
       "      <td>0</td>\n",
       "      <td>0</td>\n",
       "      <td>0</td>\n",
       "    </tr>\n",
       "    <tr>\n",
       "      <th>1</th>\n",
       "      <td>0</td>\n",
       "      <td>0</td>\n",
       "      <td>0</td>\n",
       "      <td>0</td>\n",
       "      <td>0</td>\n",
       "      <td>0</td>\n",
       "      <td>0</td>\n",
       "      <td>0</td>\n",
       "      <td>0</td>\n",
       "      <td>0</td>\n",
       "      <td>...</td>\n",
       "      <td>0</td>\n",
       "      <td>0</td>\n",
       "      <td>0</td>\n",
       "      <td>0</td>\n",
       "      <td>0</td>\n",
       "      <td>0</td>\n",
       "      <td>0</td>\n",
       "      <td>0</td>\n",
       "      <td>0</td>\n",
       "      <td>0</td>\n",
       "    </tr>\n",
       "    <tr>\n",
       "      <th>2</th>\n",
       "      <td>0</td>\n",
       "      <td>0</td>\n",
       "      <td>0</td>\n",
       "      <td>0</td>\n",
       "      <td>0</td>\n",
       "      <td>0</td>\n",
       "      <td>0</td>\n",
       "      <td>0</td>\n",
       "      <td>0</td>\n",
       "      <td>0</td>\n",
       "      <td>...</td>\n",
       "      <td>0</td>\n",
       "      <td>0</td>\n",
       "      <td>0</td>\n",
       "      <td>0</td>\n",
       "      <td>0</td>\n",
       "      <td>0</td>\n",
       "      <td>0</td>\n",
       "      <td>0</td>\n",
       "      <td>0</td>\n",
       "      <td>0</td>\n",
       "    </tr>\n",
       "    <tr>\n",
       "      <th>3</th>\n",
       "      <td>0</td>\n",
       "      <td>0</td>\n",
       "      <td>0</td>\n",
       "      <td>0</td>\n",
       "      <td>0</td>\n",
       "      <td>0</td>\n",
       "      <td>0</td>\n",
       "      <td>0</td>\n",
       "      <td>0</td>\n",
       "      <td>0</td>\n",
       "      <td>...</td>\n",
       "      <td>0</td>\n",
       "      <td>0</td>\n",
       "      <td>0</td>\n",
       "      <td>0</td>\n",
       "      <td>0</td>\n",
       "      <td>0</td>\n",
       "      <td>0</td>\n",
       "      <td>0</td>\n",
       "      <td>0</td>\n",
       "      <td>0</td>\n",
       "    </tr>\n",
       "    <tr>\n",
       "      <th>4</th>\n",
       "      <td>0</td>\n",
       "      <td>0</td>\n",
       "      <td>0</td>\n",
       "      <td>0</td>\n",
       "      <td>0</td>\n",
       "      <td>0</td>\n",
       "      <td>0</td>\n",
       "      <td>0</td>\n",
       "      <td>0</td>\n",
       "      <td>0</td>\n",
       "      <td>...</td>\n",
       "      <td>0</td>\n",
       "      <td>0</td>\n",
       "      <td>0</td>\n",
       "      <td>0</td>\n",
       "      <td>0</td>\n",
       "      <td>0</td>\n",
       "      <td>0</td>\n",
       "      <td>0</td>\n",
       "      <td>0</td>\n",
       "      <td>0</td>\n",
       "    </tr>\n",
       "    <tr>\n",
       "      <th>...</th>\n",
       "      <td>...</td>\n",
       "      <td>...</td>\n",
       "      <td>...</td>\n",
       "      <td>...</td>\n",
       "      <td>...</td>\n",
       "      <td>...</td>\n",
       "      <td>...</td>\n",
       "      <td>...</td>\n",
       "      <td>...</td>\n",
       "      <td>...</td>\n",
       "      <td>...</td>\n",
       "      <td>...</td>\n",
       "      <td>...</td>\n",
       "      <td>...</td>\n",
       "      <td>...</td>\n",
       "      <td>...</td>\n",
       "      <td>...</td>\n",
       "      <td>...</td>\n",
       "      <td>...</td>\n",
       "      <td>...</td>\n",
       "      <td>...</td>\n",
       "    </tr>\n",
       "    <tr>\n",
       "      <th>1742</th>\n",
       "      <td>0</td>\n",
       "      <td>0</td>\n",
       "      <td>0</td>\n",
       "      <td>0</td>\n",
       "      <td>0</td>\n",
       "      <td>0</td>\n",
       "      <td>0</td>\n",
       "      <td>0</td>\n",
       "      <td>0</td>\n",
       "      <td>0</td>\n",
       "      <td>...</td>\n",
       "      <td>0</td>\n",
       "      <td>0</td>\n",
       "      <td>0</td>\n",
       "      <td>0</td>\n",
       "      <td>0</td>\n",
       "      <td>0</td>\n",
       "      <td>0</td>\n",
       "      <td>0</td>\n",
       "      <td>0</td>\n",
       "      <td>0</td>\n",
       "    </tr>\n",
       "    <tr>\n",
       "      <th>1743</th>\n",
       "      <td>0</td>\n",
       "      <td>0</td>\n",
       "      <td>0</td>\n",
       "      <td>0</td>\n",
       "      <td>0</td>\n",
       "      <td>0</td>\n",
       "      <td>0</td>\n",
       "      <td>0</td>\n",
       "      <td>0</td>\n",
       "      <td>0</td>\n",
       "      <td>...</td>\n",
       "      <td>0</td>\n",
       "      <td>0</td>\n",
       "      <td>0</td>\n",
       "      <td>0</td>\n",
       "      <td>0</td>\n",
       "      <td>0</td>\n",
       "      <td>0</td>\n",
       "      <td>0</td>\n",
       "      <td>0</td>\n",
       "      <td>0</td>\n",
       "    </tr>\n",
       "    <tr>\n",
       "      <th>1744</th>\n",
       "      <td>0</td>\n",
       "      <td>0</td>\n",
       "      <td>0</td>\n",
       "      <td>0</td>\n",
       "      <td>0</td>\n",
       "      <td>0</td>\n",
       "      <td>0</td>\n",
       "      <td>0</td>\n",
       "      <td>0</td>\n",
       "      <td>0</td>\n",
       "      <td>...</td>\n",
       "      <td>0</td>\n",
       "      <td>0</td>\n",
       "      <td>0</td>\n",
       "      <td>0</td>\n",
       "      <td>0</td>\n",
       "      <td>0</td>\n",
       "      <td>0</td>\n",
       "      <td>0</td>\n",
       "      <td>0</td>\n",
       "      <td>0</td>\n",
       "    </tr>\n",
       "    <tr>\n",
       "      <th>1745</th>\n",
       "      <td>0</td>\n",
       "      <td>0</td>\n",
       "      <td>0</td>\n",
       "      <td>0</td>\n",
       "      <td>0</td>\n",
       "      <td>0</td>\n",
       "      <td>0</td>\n",
       "      <td>0</td>\n",
       "      <td>0</td>\n",
       "      <td>0</td>\n",
       "      <td>...</td>\n",
       "      <td>0</td>\n",
       "      <td>0</td>\n",
       "      <td>0</td>\n",
       "      <td>0</td>\n",
       "      <td>0</td>\n",
       "      <td>0</td>\n",
       "      <td>0</td>\n",
       "      <td>0</td>\n",
       "      <td>0</td>\n",
       "      <td>0</td>\n",
       "    </tr>\n",
       "    <tr>\n",
       "      <th>1746</th>\n",
       "      <td>0</td>\n",
       "      <td>0</td>\n",
       "      <td>0</td>\n",
       "      <td>0</td>\n",
       "      <td>0</td>\n",
       "      <td>0</td>\n",
       "      <td>0</td>\n",
       "      <td>0</td>\n",
       "      <td>0</td>\n",
       "      <td>0</td>\n",
       "      <td>...</td>\n",
       "      <td>0</td>\n",
       "      <td>0</td>\n",
       "      <td>0</td>\n",
       "      <td>0</td>\n",
       "      <td>0</td>\n",
       "      <td>0</td>\n",
       "      <td>0</td>\n",
       "      <td>0</td>\n",
       "      <td>0</td>\n",
       "      <td>0</td>\n",
       "    </tr>\n",
       "  </tbody>\n",
       "</table>\n",
       "<p>1747 rows × 1700 columns</p>\n",
       "</div>"
      ],
      "text/plain": [
       "      able  abt  abta  ac  access  accident  account  ache  aclpm  acoentry  \\\n",
       "0        0    0     0   0       0         0        0     0      0         0   \n",
       "1        0    0     0   0       0         0        0     0      0         0   \n",
       "2        0    0     0   0       0         0        0     0      0         0   \n",
       "3        0    0     0   0       0         0        0     0      0         0   \n",
       "4        0    0     0   0       0         0        0     0      0         0   \n",
       "...    ...  ...   ...  ..     ...       ...      ...   ...    ...       ...   \n",
       "1742     0    0     0   0       0         0        0     0      0         0   \n",
       "1743     0    0     0   0       0         0        0     0      0         0   \n",
       "1744     0    0     0   0       0         0        0     0      0         0   \n",
       "1745     0    0     0   0       0         0        0     0      0         0   \n",
       "1746     0    0     0   0       0         0        0     0      0         0   \n",
       "\n",
       "      ...  yesterday  yijue  yo  youll  youre  youve  yr  yrs  yup  zed  \n",
       "0     ...          0      0   0      0      0      0   0    0    0    0  \n",
       "1     ...          0      0   0      0      0      0   0    0    0    0  \n",
       "2     ...          0      0   0      0      0      0   0    0    0    0  \n",
       "3     ...          0      0   0      0      0      0   0    0    0    0  \n",
       "4     ...          0      0   0      0      0      0   0    0    0    0  \n",
       "...   ...        ...    ...  ..    ...    ...    ...  ..  ...  ...  ...  \n",
       "1742  ...          0      0   0      0      0      0   0    0    0    0  \n",
       "1743  ...          0      0   0      0      0      0   0    0    0    0  \n",
       "1744  ...          0      0   0      0      0      0   0    0    0    0  \n",
       "1745  ...          0      0   0      0      0      0   0    0    0    0  \n",
       "1746  ...          0      0   0      0      0      0   0    0    0    0  \n",
       "\n",
       "[1747 rows x 1700 columns]"
      ]
     },
     "execution_count": 199,
     "metadata": {},
     "output_type": "execute_result"
    }
   ],
   "source": [
    "testing = pd.DataFrame (x, columns = column_name)\n",
    "testing"
   ]
  },
  {
   "cell_type": "code",
   "execution_count": 200,
   "id": "4412b728-1c33-468d-b802-4e333a48c023",
   "metadata": {},
   "outputs": [
    {
     "data": {
      "text/plain": [
       "(1747, 1700)"
      ]
     },
     "execution_count": 200,
     "metadata": {},
     "output_type": "execute_result"
    }
   ],
   "source": [
    "x.shape"
   ]
  },
  {
   "cell_type": "code",
   "execution_count": 203,
   "id": "2371c68b-9291-47f2-b7a6-7a41b1fd038c",
   "metadata": {},
   "outputs": [],
   "source": [
    "#countvectorizer? what does it does?\n",
    "\n",
    "# i am good boys\n",
    "# you are good boys\n",
    "# girls and boys are good\n",
    "\n",
    "# countvectorizer phele stopwords ko remoive krega\n",
    "# countvectorizer unique words nikalge like........... boys , girls, good\n",
    "\n",
    "# aur fir in unique ke columns names bnadega\n",
    "# max_features = 1700 mtlb maax 1700 unique nikalne hain bas uske aage nahi"
   ]
  },
  {
   "cell_type": "code",
   "execution_count": 205,
   "id": "514c836b-47c9-422d-b4b1-d323ec2b1dc7",
   "metadata": {},
   "outputs": [],
   "source": [
    "# ham =0 \n",
    "# spam = 1"
   ]
  },
  {
   "cell_type": "code",
   "execution_count": 207,
   "id": "a0867d45-5562-4978-a071-2a4f2a0f14f1",
   "metadata": {},
   "outputs": [],
   "source": [
    "dt = { 'ham':0, \"spam\":1}\n",
    "y = y.map(dt)"
   ]
  },
  {
   "cell_type": "code",
   "execution_count": 209,
   "id": "0cb881bb-33be-4b60-89e2-c7fcdc881481",
   "metadata": {},
   "outputs": [],
   "source": [
    "import numpy as np"
   ]
  },
  {
   "cell_type": "code",
   "execution_count": 210,
   "id": "40647d6f-91ec-40a1-91a1-955243868683",
   "metadata": {},
   "outputs": [],
   "source": [
    "y = np.array(y)"
   ]
  },
  {
   "cell_type": "code",
   "execution_count": 215,
   "id": "817e1b14-cfc8-4e9f-92ba-808c8a067784",
   "metadata": {},
   "outputs": [
    {
     "data": {
      "text/plain": [
       "((1747, 1700), (1747,))"
      ]
     },
     "execution_count": 215,
     "metadata": {},
     "output_type": "execute_result"
    }
   ],
   "source": [
    "x.shape, y.shape"
   ]
  },
  {
   "cell_type": "code",
   "execution_count": 220,
   "id": "b7debb6d-5748-4f53-9129-b0a5f3b0cbf2",
   "metadata": {},
   "outputs": [],
   "source": [
    "from sklearn.model_selection import train_test_split"
   ]
  },
  {
   "cell_type": "code",
   "execution_count": 222,
   "id": "2b38ff01-9067-408c-b73b-4fddfd85be2f",
   "metadata": {},
   "outputs": [],
   "source": [
    "x_train, x_test, y_train, y_test = train_test_split(x,y,test_size= 0.15)"
   ]
  },
  {
   "cell_type": "code",
   "execution_count": null,
   "id": "8e04f37b-ca91-4b93-a2c8-fe9484212d32",
   "metadata": {},
   "outputs": [],
   "source": []
  },
  {
   "cell_type": "markdown",
   "id": "7ac5c66f-75cf-44a9-bcd9-edb7a36a8364",
   "metadata": {},
   "source": [
    "# Naive Bayes\n"
   ]
  },
  {
   "cell_type": "code",
   "execution_count": 224,
   "id": "27bb90cc-1316-4673-85e5-4d7813e4738d",
   "metadata": {},
   "outputs": [],
   "source": [
    "from sklearn.naive_bayes import MultinomialNB, BernoulliNB"
   ]
  },
  {
   "cell_type": "code",
   "execution_count": 238,
   "id": "7df25c66-0c18-43f5-9aa9-f307259bc85a",
   "metadata": {},
   "outputs": [],
   "source": [
    "\n",
    "#agar text format mein hain data to use NAIVE BAYES\n"
   ]
  },
  {
   "cell_type": "code",
   "execution_count": 240,
   "id": "c34c720a-9179-4a60-bfb5-46da891aa845",
   "metadata": {},
   "outputs": [],
   "source": [
    "#logistic regression\n",
    "#desicsion classifier\n",
    "#randomforest calssifier\n",
    "\n",
    "\n",
    "\n",
    "\n",
    "#BAYES THEOREm + NAIVE BAYES\n",
    "# AUR baki saB CLASSIFIER BHI PDHLENA TO REVISE AND PACK"
   ]
  },
  {
   "cell_type": "code",
   "execution_count": 241,
   "id": "703fa9ef-6ef0-428c-82cf-14db952b951b",
   "metadata": {},
   "outputs": [
    {
     "name": "stdout",
     "output_type": "stream",
     "text": [
      "Training score MNB :  0.9743935309973046\n",
      "Testing score MNB :  0.9743935309973046\n",
      "\n",
      "Training score BNB :  0.9609164420485176\n",
      "Testing score BNB :  0.9609164420485176\n"
     ]
    }
   ],
   "source": [
    "mb = MultinomialNB()\n",
    "bnb = BernoulliNB()\n",
    "\n",
    "mb.fit(x_train, y_train)\n",
    "bnb.fit(x_train, y_train)\n",
    "\n",
    "print(\"Training score MNB : \",mb.score(x_train,y_train))\n",
    "print(\"Testing score MNB : \",mb.score(x_train,y_train))\n",
    "print()\n",
    "print(\"Training score BNB : \",bnb.score(x_train,y_train))\n",
    "print(\"Testing score BNB : \",bnb.score(x_train,y_train))\n",
    "\n"
   ]
  },
  {
   "cell_type": "code",
   "execution_count": 242,
   "id": "4907c347-a6d7-467a-a7f4-51fa6a6348fb",
   "metadata": {},
   "outputs": [],
   "source": [
    "import joblib"
   ]
  },
  {
   "cell_type": "code",
   "execution_count": 245,
   "id": "85955d5c-6592-4391-8d47-36752b92e4f8",
   "metadata": {},
   "outputs": [
    {
     "data": {
      "text/plain": [
       "['countvectorizer.lb']"
      ]
     },
     "execution_count": 245,
     "metadata": {},
     "output_type": "execute_result"
    }
   ],
   "source": [
    "joblib.dump(bnb,\"MB_MODEL.lb\")\n",
    "joblib.dump(bow,\"countvectorizer.lb\")   #countvectorizer se alphabet se num mein covert kiye the"
   ]
  },
  {
   "cell_type": "code",
   "execution_count": null,
   "id": "f222ea88-5062-4d9a-8909-1ed813417bd6",
   "metadata": {},
   "outputs": [],
   "source": []
  },
  {
   "cell_type": "code",
   "execution_count": 247,
   "id": "fe3e3508-2d44-47b7-b702-2e5084b83c98",
   "metadata": {},
   "outputs": [
    {
     "data": {
      "text/plain": [
       "array([1, 1, 0, 0, 0, 0, 0, 1, 1, 0], dtype=int64)"
      ]
     },
     "execution_count": 247,
     "metadata": {},
     "output_type": "execute_result"
    }
   ],
   "source": [
    "prediction = bnb.predict(x_test)\n",
    "prediction[:10]"
   ]
  },
  {
   "cell_type": "code",
   "execution_count": 248,
   "id": "cd9df079-d18f-46d8-aaec-3405ddb02934",
   "metadata": {},
   "outputs": [
    {
     "data": {
      "text/plain": [
       "array([1, 1, 0, 0, 0, 0, 0, 1, 1, 0], dtype=int64)"
      ]
     },
     "execution_count": 248,
     "metadata": {},
     "output_type": "execute_result"
    }
   ],
   "source": [
    "y_test[:10]"
   ]
  },
  {
   "cell_type": "code",
   "execution_count": 249,
   "id": "e10f4d1f-953f-46f3-991b-57053b4e6efc",
   "metadata": {},
   "outputs": [],
   "source": [
    "from sklearn.metrics import confusion_matrix"
   ]
  },
  {
   "cell_type": "code",
   "execution_count": 250,
   "id": "e5f52a54-765f-4689-bd29-e0dd3306c6dd",
   "metadata": {},
   "outputs": [
    {
     "data": {
      "text/plain": [
       "array([[153,   0],\n",
       "       [  8, 102]], dtype=int64)"
      ]
     },
     "execution_count": 250,
     "metadata": {},
     "output_type": "execute_result"
    }
   ],
   "source": [
    "confusion_matrix(y_test, prediction)"
   ]
  },
  {
   "cell_type": "code",
   "execution_count": null,
   "id": "c13c707e-c545-4a55-9df6-9147a35b68b4",
   "metadata": {},
   "outputs": [],
   "source": []
  }
 ],
 "metadata": {
  "kernelspec": {
   "display_name": "Python 3 (ipykernel)",
   "language": "python",
   "name": "python3"
  },
  "language_info": {
   "codemirror_mode": {
    "name": "ipython",
    "version": 3
   },
   "file_extension": ".py",
   "mimetype": "text/x-python",
   "name": "python",
   "nbconvert_exporter": "python",
   "pygments_lexer": "ipython3",
   "version": "3.9.12"
  }
 },
 "nbformat": 4,
 "nbformat_minor": 5
}
